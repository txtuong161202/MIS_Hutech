{
  "nbformat": 4,
  "nbformat_minor": 0,
  "metadata": {
    "kernelspec": {
      "display_name": "Python 3",
      "language": "python",
      "name": "python3"
    },
    "language_info": {
      "codemirror_mode": {
        "name": "ipython",
        "version": 3
      },
      "file_extension": ".py",
      "mimetype": "text/x-python",
      "name": "python",
      "nbconvert_exporter": "python",
      "pygments_lexer": "ipython3",
      "version": "3.7.6"
    },
    "colab": {
      "name": "TH1.ipynb",
      "provenance": [],
      "include_colab_link": true
    }
  },
  "cells": [
    {
      "cell_type": "markdown",
      "metadata": {
        "id": "view-in-github",
        "colab_type": "text"
      },
      "source": [
        "<a href=\"https://colab.research.google.com/github/txtuong161202/MIS_Hutech/blob/master/HK1B_21_22/Week_1/TH1.ipynb\" target=\"_parent\"><img src=\"https://colab.research.google.com/assets/colab-badge.svg\" alt=\"Open In Colab\"/></a>"
      ]
    },
    {
      "cell_type": "markdown",
      "metadata": {
        "id": "qTn5LvAPjLan"
      },
      "source": [
        "Nội dung thực hành: Các bài lý thuyết 1, 2, 3."
      ]
    },
    {
      "cell_type": "code",
      "metadata": {
        "id": "M_bHB-_rjLar"
      },
      "source": [
        "# import các thư viện cần thiết\n",
        "\n"
      ],
      "execution_count": null,
      "outputs": []
    },
    {
      "cell_type": "markdown",
      "metadata": {
        "id": "OuGKmbE1jLas"
      },
      "source": [
        "Câu 1. Tạo series s1 từ list các chữ cái từ a đến f như sau: \\['a', 'b', ... , 'f'\\]. In s1."
      ]
    },
    {
      "cell_type": "code",
      "metadata": {
        "id": "myJeDe5CjLat"
      },
      "source": [
        ""
      ],
      "execution_count": null,
      "outputs": []
    },
    {
      "cell_type": "markdown",
      "metadata": {
        "id": "8wjB4o9RjLat"
      },
      "source": [
        "Câu 2. Tạo lại series s1 như trên, nhưng lần này đặt index là chữ cái in hoa tương ứng của các chữ cái. In s1."
      ]
    },
    {
      "cell_type": "code",
      "metadata": {
        "id": "49uCRuuXjLau"
      },
      "source": [
        ""
      ],
      "execution_count": null,
      "outputs": []
    },
    {
      "cell_type": "markdown",
      "metadata": {
        "id": "2HUiEEjSjLau"
      },
      "source": [
        "Câu 3. Tạo một dictionary với key là \\['JP', 'KR', 'PL', 'RU' 'UK', 'US'\\] tương ứng với các giá trị \\['Japan', 'Korea', 'Poland', 'Russia', 'United Kingdom', 'United States'\\].\n",
        "\n",
        "Từ dictionary này tạo series s2. In s2."
      ]
    },
    {
      "cell_type": "code",
      "metadata": {
        "id": "HkeLUW-qjLav"
      },
      "source": [
        ""
      ],
      "execution_count": null,
      "outputs": []
    },
    {
      "cell_type": "markdown",
      "metadata": {
        "id": "rb9N5bkujLav"
      },
      "source": [
        "Câu 4. Truy xuất phần tử thứ 3 của s2.\n",
        "\n",
        "Truy xuất phần tử có nhãn là 'KR'.\n",
        "\n",
        "In các kết quả truy xuất."
      ]
    },
    {
      "cell_type": "code",
      "metadata": {
        "id": "8VCtbrtLjLav"
      },
      "source": [
        ""
      ],
      "execution_count": null,
      "outputs": []
    },
    {
      "cell_type": "markdown",
      "metadata": {
        "id": "fU2j4qLLjLaw"
      },
      "source": [
        "Câu 5. Lấy phần tử kế cuối của s2.\n",
        "\n",
        "Gợi ý: iloc có thể nhận giá trị âm, ví dụ iloc\\[-1\\]."
      ]
    },
    {
      "cell_type": "code",
      "metadata": {
        "id": "XvjEXsWhjLaw"
      },
      "source": [
        ""
      ],
      "execution_count": null,
      "outputs": []
    },
    {
      "cell_type": "markdown",
      "metadata": {
        "id": "oA9yJqbHjLaw"
      },
      "source": [
        "Câu 6. Dùng hàm datetime để tạo thời điểm 6 giờ 30 phút 17 giây ngày 15 tháng 9 năm 2001. Lưu thời điểm vào biến t1 và in t1."
      ]
    },
    {
      "cell_type": "code",
      "metadata": {
        "id": "wrRGUt2ajLax"
      },
      "source": [
        ""
      ],
      "execution_count": null,
      "outputs": []
    },
    {
      "cell_type": "markdown",
      "metadata": {
        "id": "QrUCJiWqjLax"
      },
      "source": [
        "Câu 7. Dùng strftime để in ra tháng đầy đủ của t1, ở đây là September."
      ]
    },
    {
      "cell_type": "code",
      "metadata": {
        "id": "lyehIhJ8jLax"
      },
      "source": [
        ""
      ],
      "execution_count": null,
      "outputs": []
    },
    {
      "cell_type": "markdown",
      "metadata": {
        "id": "p0hsgBV6jLax"
      },
      "source": [
        "Câu 8. Dùng hàm date_range của pandas để tạo mảng các ngày cuối cùng của các tháng trong năm 2021. Lưu mảng vào biến d1.\n",
        "\n",
        "Tham khảo https://pandas.pydata.org/docs/user_guide/timeseries.html#timeseries-offset-aliases để chọn được freq phù hợp."
      ]
    },
    {
      "cell_type": "code",
      "metadata": {
        "id": "PQRnvfwjjLay"
      },
      "source": [
        ""
      ],
      "execution_count": null,
      "outputs": []
    },
    {
      "cell_type": "markdown",
      "metadata": {
        "id": "wWAKCfQajLay"
      },
      "source": [
        "Câu 9. Dùng hàm randint của numpy để tạo một mảng gồm 12 số nguyên có giá trị ngẫu nhiên từ 100 đến 1000 và lưu vào biến rand. Gợi ý: Thực hiện các phép tính +-*/ với biến rand và xem thử kết quả.\n",
        "\n",
        "Tạo timeseries từ mảng d1 ở câu 8 và mảng số nguyên vừa tạo, lưu vào biến ts1. In ts1."
      ]
    },
    {
      "cell_type": "code",
      "metadata": {
        "id": "uNXpnV1LjLay"
      },
      "source": [
        ""
      ],
      "execution_count": null,
      "outputs": []
    },
    {
      "cell_type": "markdown",
      "metadata": {
        "id": "gQVJmc2UjLaz"
      },
      "source": [
        "Câu 10. Tìm trung bình, trung vị và độ lệch chuẩn của ts1. In các kết quả."
      ]
    },
    {
      "cell_type": "code",
      "metadata": {
        "id": "IWupqtTyjLaz"
      },
      "source": [
        ""
      ],
      "execution_count": null,
      "outputs": []
    },
    {
      "cell_type": "markdown",
      "metadata": {
        "id": "eOTt6oRKjLaz"
      },
      "source": [
        "Câu 11. Tạo dictionary với các cặp key-value như sau:\n",
        "- Month: \\[1, 2, 3, 4, 5, 6, 7, 8, 9, 10, 11, 12\\]\n",
        "- Customers: \\[341, 243, 223, 464, 534, 543, 356, 378, 289, 330, 254, 285\\]\n",
        "- Profit: \\[3218, 2238, 2038, 4448, 5148, 5238, 3368, 3588, 2698, 3108, 2348, 2658\\]\n",
        "\n",
        "Tạo dataframe từ dictionary này, lưu thành df1. In df1."
      ]
    },
    {
      "cell_type": "code",
      "metadata": {
        "id": "Rvu-N4ewjLaz"
      },
      "source": [
        ""
      ],
      "execution_count": null,
      "outputs": []
    },
    {
      "cell_type": "markdown",
      "metadata": {
        "id": "rmwbqJhpjLaz"
      },
      "source": [
        "Câu 12. Đổi index của df1 thành các ngày cuối tháng của năm 2021. In df1."
      ]
    },
    {
      "cell_type": "code",
      "metadata": {
        "id": "Rc6SCfmsjLaz"
      },
      "source": [
        ""
      ],
      "execution_count": null,
      "outputs": []
    },
    {
      "cell_type": "markdown",
      "metadata": {
        "id": "ujWEOMhIjLa0"
      },
      "source": [
        "Câu 13. Đổi cột Month thành viết tắt của các tháng: 'Jan', 'Feb', 'Mar', 'Apr', 'May', 'Jun', 'Jul', 'Aug', 'Sep', 'Oct', 'Nov', 'Dec'.\n",
        "\n",
        "Dùng hàm .loc của dataframe để truy xuất dòng dữ liệu của tháng 2. In ra dòng này. Gợi ý: Hàm Timestamp của pd."
      ]
    },
    {
      "cell_type": "code",
      "metadata": {
        "id": "iF0A4jbbjLa0"
      },
      "source": [
        ""
      ],
      "execution_count": null,
      "outputs": []
    },
    {
      "cell_type": "markdown",
      "metadata": {
        "id": "6GEjUMQNjLa0"
      },
      "source": [
        "Câu 14. Lọc ra dữ liệu các tháng có profit đạt nhiều hơn 3000 và lưu vào biến df2. In df2.\n",
        "\n",
        "Tính số lượng khách hàng trung bình của các dòng dữ liệu này và chuyển về dạng số nguyên. In kết quả. Gợi ý: Mỗi cột của dataframe là một series. Tham khảo https://docs.python.org/3/library/functions.html để tìm hàm làm tròn."
      ]
    },
    {
      "cell_type": "code",
      "metadata": {
        "id": "PaGPlk4ajLa0"
      },
      "source": [
        ""
      ],
      "execution_count": null,
      "outputs": []
    },
    {
      "cell_type": "markdown",
      "metadata": {
        "id": "5uZbDLTQjLa0"
      },
      "source": [
        "Câu 15. In dữ liệu các tháng có profit cao hơn trung bình."
      ]
    },
    {
      "cell_type": "code",
      "metadata": {
        "id": "8DUk949KjLa0"
      },
      "source": [
        ""
      ],
      "execution_count": null,
      "outputs": []
    }
  ]
}