{
  "nbformat": 4,
  "nbformat_minor": 0,
  "metadata": {
    "kernelspec": {
      "display_name": "Python 3",
      "language": "python",
      "name": "python3"
    },
    "language_info": {
      "codemirror_mode": {
        "name": "ipython",
        "version": 3
      },
      "file_extension": ".py",
      "mimetype": "text/x-python",
      "name": "python",
      "nbconvert_exporter": "python",
      "pygments_lexer": "ipython3",
      "version": "3.7.6"
    },
    "colab": {
      "name": "TH1.ipynb",
      "provenance": []
    }
  },
  "cells": [
    {
      "cell_type": "markdown",
      "metadata": {
        "id": "fw2UTZNWjrkn"
      },
      "source": [
        "Nội dung thực hành: Các bài lý thuyết 1, 2, 3."
      ]
    },
    {
      "cell_type": "code",
      "metadata": {
        "id": "BIyQdtgajrku"
      },
      "source": [
        "# import các thư viện cần thiết\n",
        "\n"
      ],
      "execution_count": null,
      "outputs": []
    },
    {
      "cell_type": "markdown",
      "metadata": {
        "id": "QL-Gt1dIjrkw"
      },
      "source": [
        "Câu 1. Tạo series s1 từ list các chữ cái từ a đến f như sau: \\['a', 'b', ... , 'f'\\]. In s1."
      ]
    },
    {
      "cell_type": "code",
      "metadata": {
        "id": "uZ94Zd8wjrkx"
      },
      "source": [
        ""
      ],
      "execution_count": null,
      "outputs": []
    },
    {
      "cell_type": "markdown",
      "metadata": {
        "id": "1MWnNRDHjrkx"
      },
      "source": [
        "Câu 2. Tạo lại series s1 như trên, nhưng lần này đặt index là chữ cái in hoa tương ứng của các chữ cái. In s1."
      ]
    },
    {
      "cell_type": "code",
      "metadata": {
        "id": "s8krAEmGjrky"
      },
      "source": [
        ""
      ],
      "execution_count": null,
      "outputs": []
    },
    {
      "cell_type": "markdown",
      "metadata": {
        "id": "dC7mK5Ezjrkz"
      },
      "source": [
        "Câu 3. Tạo một dictionary với key là \\['JP', 'KR', 'PL', 'RU' 'UK', 'US'\\] tương ứng với các giá trị \\['Japan', 'Korea', 'Poland', 'Russia', 'United Kingdom', 'United States'\\].\n",
        "\n",
        "Từ dictionary này tạo series s2. In s2."
      ]
    },
    {
      "cell_type": "code",
      "metadata": {
        "id": "YUgi76hgjrk0"
      },
      "source": [
        ""
      ],
      "execution_count": null,
      "outputs": []
    },
    {
      "cell_type": "markdown",
      "metadata": {
        "id": "p_SZnlhHjrk0"
      },
      "source": [
        "Câu 4. Truy xuất phần tử thứ 3 của s2.\n",
        "\n",
        "Truy xuất phần tử có nhãn là 'KR'.\n",
        "\n",
        "In các kết quả truy xuất."
      ]
    },
    {
      "cell_type": "code",
      "metadata": {
        "id": "XHsaaz0ejrk1"
      },
      "source": [
        ""
      ],
      "execution_count": null,
      "outputs": []
    },
    {
      "cell_type": "markdown",
      "metadata": {
        "id": "mv5Q9_nwjrk2"
      },
      "source": [
        "Câu 5. Lấy phần tử kế cuối của s2.\n",
        "\n",
        "Gợi ý: iloc có thể nhận giá trị âm, ví dụ iloc\\[-1\\]."
      ]
    },
    {
      "cell_type": "code",
      "metadata": {
        "id": "4-HFOuPUjrk2"
      },
      "source": [
        ""
      ],
      "execution_count": null,
      "outputs": []
    },
    {
      "cell_type": "markdown",
      "metadata": {
        "id": "ZK-YpuZCjrk3"
      },
      "source": [
        "Câu 6. Dùng hàm datetime để tạo thời điểm 6 giờ 30 phút 17 giây ngày 15 tháng 9 năm 2001. Lưu thời điểm vào biến t1 và in t1."
      ]
    },
    {
      "cell_type": "code",
      "metadata": {
        "id": "WcgAHum0jrk3"
      },
      "source": [
        ""
      ],
      "execution_count": null,
      "outputs": []
    },
    {
      "cell_type": "markdown",
      "metadata": {
        "id": "_A5K5vtwjrk3"
      },
      "source": [
        "Câu 7. Dùng strftime để in ra tháng đầy đủ của t1, ở đây là September."
      ]
    },
    {
      "cell_type": "code",
      "metadata": {
        "id": "aSW264MLjrk4"
      },
      "source": [
        ""
      ],
      "execution_count": null,
      "outputs": []
    },
    {
      "cell_type": "markdown",
      "metadata": {
        "id": "LuI9dzg4jrk4"
      },
      "source": [
        "Câu 8. Dùng hàm date_range của pandas để tạo mảng các ngày cuối cùng của các tháng trong năm 2021. Lưu mảng vào biến d1.\n",
        "\n",
        "Tham khảo https://pandas.pydata.org/docs/user_guide/timeseries.html#timeseries-offset-aliases để chọn được freq phù hợp."
      ]
    },
    {
      "cell_type": "code",
      "metadata": {
        "id": "hMFw0CeMjrk4"
      },
      "source": [
        ""
      ],
      "execution_count": null,
      "outputs": []
    },
    {
      "cell_type": "markdown",
      "metadata": {
        "id": "ZRDrudY9jrk4"
      },
      "source": [
        "Câu 9. Dùng hàm randint của numpy để tạo một mảng gồm 12 số nguyên có giá trị ngẫu nhiên từ 100 đến 1000 và lưu vào biến rand. Gợi ý: Thực hiện các phép tính +-*/ với biến rand và xem thử kết quả.\n",
        "\n",
        "Tạo timeseries từ mảng d1 ở câu 8 và mảng số nguyên vừa tạo, lưu vào biến ts1. In ts1."
      ]
    },
    {
      "cell_type": "code",
      "metadata": {
        "id": "LAOIssPOjrk5"
      },
      "source": [
        ""
      ],
      "execution_count": null,
      "outputs": []
    },
    {
      "cell_type": "markdown",
      "metadata": {
        "id": "I0cK3PTKjrk5"
      },
      "source": [
        "Câu 10. Tìm trung bình, trung vị và độ lệch chuẩn của ts1. In các kết quả."
      ]
    },
    {
      "cell_type": "code",
      "metadata": {
        "id": "zicTwxMHjrk5"
      },
      "source": [
        ""
      ],
      "execution_count": null,
      "outputs": []
    },
    {
      "cell_type": "markdown",
      "metadata": {
        "id": "0fkmxtiHjrk5"
      },
      "source": [
        "Câu 11. Tạo dictionary với các cặp key-value như sau:\n",
        "- Month: \\[1, 2, 3, 4, 5, 6, 7, 8, 9, 10, 11, 12\\]\n",
        "- Customers: \\[341, 243, 223, 464, 534, 543, 356, 378, 289, 330, 254, 285\\]\n",
        "- Profit: \\[3218, 2238, 2038, 4448, 5148, 5238, 3368, 3588, 2698, 3108, 2348, 2658\\]\n",
        "\n",
        "Tạo dataframe từ dictionary này, lưu thành df1. In df1."
      ]
    },
    {
      "cell_type": "code",
      "metadata": {
        "id": "qYB23Llzjrk5"
      },
      "source": [
        ""
      ],
      "execution_count": null,
      "outputs": []
    },
    {
      "cell_type": "markdown",
      "metadata": {
        "id": "W3GoLysQjrk6"
      },
      "source": [
        "Câu 12. Đổi index của df1 thành các ngày cuối tháng của năm 2021. In df1."
      ]
    },
    {
      "cell_type": "code",
      "metadata": {
        "id": "ay0Ear3vjrk6"
      },
      "source": [
        ""
      ],
      "execution_count": null,
      "outputs": []
    },
    {
      "cell_type": "markdown",
      "metadata": {
        "id": "n17RsZM5jrk6"
      },
      "source": [
        "Câu 13. Đổi cột Month thành viết tắt của các tháng: 'Jan', 'Feb', 'Mar', 'Apr', 'May', 'Jun', 'Jul', 'Aug', 'Sep', 'Oct', 'Nov', 'Dec'.\n",
        "\n",
        "Dùng hàm .loc của dataframe để truy xuất dòng dữ liệu của tháng 2. In ra dòng này. Gợi ý: Hàm Timestamp của pd."
      ]
    },
    {
      "cell_type": "code",
      "metadata": {
        "id": "DUmWI8Qmjrk6"
      },
      "source": [
        ""
      ],
      "execution_count": null,
      "outputs": []
    },
    {
      "cell_type": "markdown",
      "metadata": {
        "id": "AGrmCGWVjrk6"
      },
      "source": [
        "Câu 14. Lọc ra dữ liệu các tháng có profit đạt nhiều hơn 3000 và lưu vào biến df2. In df2.\n",
        "\n",
        "Tính số lượng khách hàng trung bình của các dòng dữ liệu này và chuyển về dạng số nguyên. In kết quả. Gợi ý: Mỗi cột của dataframe là một series. Tham khảo https://docs.python.org/3/library/functions.html để tìm hàm làm tròn."
      ]
    },
    {
      "cell_type": "code",
      "metadata": {
        "id": "008J87Kkjrk7"
      },
      "source": [
        ""
      ],
      "execution_count": null,
      "outputs": []
    },
    {
      "cell_type": "markdown",
      "metadata": {
        "id": "Lg5Tfjq-jrk7"
      },
      "source": [
        "Câu 15. In dữ liệu các tháng có profit cao hơn trung bình."
      ]
    },
    {
      "cell_type": "code",
      "metadata": {
        "id": "mQcMZAzRjrk7"
      },
      "source": [
        ""
      ],
      "execution_count": null,
      "outputs": []
    }
  ]
}